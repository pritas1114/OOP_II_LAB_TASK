{
  "nbformat": 4,
  "nbformat_minor": 0,
  "metadata": {
    "colab": {
      "provenance": []
    },
    "kernelspec": {
      "name": "python3",
      "display_name": "Python 3"
    },
    "language_info": {
      "name": "python"
    }
  },
  "cells": [
    {
      "cell_type": "code",
      "execution_count": 1,
      "metadata": {
        "colab": {
          "base_uri": "https://localhost:8080/"
        },
        "id": "8H_F4524scYE",
        "outputId": "645303ac-24e7-461e-e208-79f620cdf384"
      },
      "outputs": [
        {
          "output_type": "stream",
          "name": "stdout",
          "text": [
            "Hello Python\n"
          ]
        }
      ],
      "source": [
        "#1. Python program to print \"Hello Python\"\n",
        "print (\"Hello Python\")"
      ]
    },
    {
      "cell_type": "code",
      "source": [
        "#2. Python program to do arithmetical operations\n",
        "\n",
        "# Get user input for the numbers\n",
        "num1 = float(input(\"Enter the first number: \"))\n",
        "num2 = float(input(\"Enter the second number: \"))\n",
        "\n",
        "# Perform arithmetic operations\n",
        "addition = num1 + num2\n",
        "subtraction = num1 - num2\n",
        "multiplication = num1 * num2\n",
        "division = num1 / num2\n",
        "\n",
        "# Print the results\n",
        "print(\"Addition:\", addition)\n",
        "print(\"Subtraction:\", subtraction)\n",
        "print(\"Multiplication:\", multiplication)\n",
        "print(\"Division:\", division)"
      ],
      "metadata": {
        "colab": {
          "base_uri": "https://localhost:8080/"
        },
        "id": "uPb-LwJbtNvU",
        "outputId": "2c321067-9889-4813-8e7f-a2db228a9aae"
      },
      "execution_count": 2,
      "outputs": [
        {
          "output_type": "stream",
          "name": "stdout",
          "text": [
            "Enter the first number: 10\n",
            "Enter the second number: 2\n",
            "Addition: 12.0\n",
            "Subtraction: 8.0\n",
            "Multiplication: 20.0\n",
            "Division: 5.0\n"
          ]
        }
      ]
    },
    {
      "cell_type": "code",
      "source": [
        "#3. Python program to find the area of a triangle\n",
        "\n",
        "# Input the base and height of the triangle\n",
        "a = float(input(\"Enter the base : \"))\n",
        "b = float(input(\"Enter the height : \"))\n",
        "\n",
        "# Calculate the area\n",
        "area = 0.5 * a * b\n",
        "\n",
        "# Display the result\n",
        "print(\"The area of the triangle is:\", area)"
      ],
      "metadata": {
        "colab": {
          "base_uri": "https://localhost:8080/"
        },
        "id": "uRZ6sYZKvEm1",
        "outputId": "3318688f-9c51-4c79-c2ca-2d0328c0617b"
      },
      "execution_count": 3,
      "outputs": [
        {
          "output_type": "stream",
          "name": "stdout",
          "text": [
            "Enter the base : 50\n",
            "Enter the height : 10\n",
            "The area of the triangle is: 250.0\n"
          ]
        }
      ]
    },
    {
      "cell_type": "code",
      "source": [
        "#4.Python program to solve quadratic equation\n",
        "\n",
        "import cmath  # Importing the cmath module to handle complex square roots\n",
        "\n",
        "# Input coefficients a, b, and c\n",
        "a = float(input('Enter a: '))\n",
        "b = float(input('Enter b: '))\n",
        "c = float(input('Enter c: '))\n",
        "\n",
        "# Calculate the discriminant\n",
        "d = (b**2) - (4*a*c)\n",
        "\n",
        "# Find two solutions (handling complex roots with cmath)\n",
        "x = (-b - cmath.sqrt(d)) / (2*a)\n",
        "y = (-b + cmath.sqrt(d)) / (2*a)\n",
        "\n",
        "# Output the results\n",
        "print('The solutions are {0} and {1}'.format(x, y))\n"
      ],
      "metadata": {
        "colab": {
          "base_uri": "https://localhost:8080/"
        },
        "id": "0FlALXftvyW9",
        "outputId": "bf762ef3-350a-439a-c4c1-c6f022356a57"
      },
      "execution_count": 4,
      "outputs": [
        {
          "output_type": "stream",
          "name": "stdout",
          "text": [
            "Enter a: 10\n",
            "Enter b: 8\n",
            "Enter c: 11\n",
            "The solutions are (-0.4-0.9695359714832659j) and (-0.4+0.9695359714832659j)\n"
          ]
        }
      ]
    },
    {
      "cell_type": "code",
      "source": [
        "#05. 1Python program to swap two variables\n",
        "\n",
        "# Get input from the user\n",
        "x = input(\"Enter the first value: \")\n",
        "y = input(\"Enter the second value: \")\n",
        "\n",
        "# Swap the values using a temporary variable\n",
        "temp = x\n",
        "x = y\n",
        "y = temp\n",
        "\n",
        "# Print the swapped values\n",
        "print(\"The swapped values are:\")\n",
        "print(\"x =\", x)\n",
        "print(\"y =\", y)"
      ],
      "metadata": {
        "colab": {
          "base_uri": "https://localhost:8080/"
        },
        "id": "jNR4-tEPKWpN",
        "outputId": "4f0fba05-803e-4d54-d6a7-457acc587a91"
      },
      "execution_count": 7,
      "outputs": [
        {
          "output_type": "stream",
          "name": "stdout",
          "text": [
            "Enter the first value: 10\n",
            "Enter the second value: 20\n",
            "The swapped values are:\n",
            "x = 20\n",
            "y = 10\n"
          ]
        }
      ]
    },
    {
      "cell_type": "code",
      "source": [
        "#6.Python Program to Generate a Random Number\n",
        "import random  # Import the random module\n",
        "\n",
        "# Generate a random number between 1 and 100\n",
        "random_number = random.randint(1, 100)\n",
        "\n",
        "# Display the random number\n",
        "print(\"Random number:\", random_number)"
      ],
      "metadata": {
        "colab": {
          "base_uri": "https://localhost:8080/"
        },
        "id": "kn3SHdS3wgvx",
        "outputId": "b4b04e16-75ad-4edc-bd97-9f93aa741972"
      },
      "execution_count": 8,
      "outputs": [
        {
          "output_type": "stream",
          "name": "stdout",
          "text": [
            "Random number: 79\n"
          ]
        }
      ]
    },
    {
      "cell_type": "code",
      "source": [
        "#7 .Python program to convert kilometers to miles\n",
        "def kilometers_to_miles(kilometers):\n",
        "\n",
        "  miles = kilometers * 0.621371\n",
        "  return miles\n",
        "\n",
        "# Get the distance in kilometers from the user\n",
        "kilometers = float(input(\"Enter the distance in kilometers: \"))\n",
        "\n",
        "# Convert kilometers to miles\n",
        "miles = kilometers_to_miles(kilometers)\n",
        "\n",
        "# Print the result\n",
        "print(f\"{kilometers} kilometers is equal to {miles:.2f} miles.\")"
      ],
      "metadata": {
        "colab": {
          "base_uri": "https://localhost:8080/"
        },
        "id": "7HPs6m12xOYs",
        "outputId": "d352b40c-4d13-430b-9d8d-54371d089186"
      },
      "execution_count": 11,
      "outputs": [
        {
          "output_type": "stream",
          "name": "stdout",
          "text": [
            "Enter the distance in kilometers: 11\n",
            "11.0 kilometers is equal to 6.84 miles.\n"
          ]
        }
      ]
    },
    {
      "cell_type": "code",
      "source": [
        "#8 Python program to convert Celsius to Fahrenheit\n",
        "\n",
        "# Input temperature in Celsius\n",
        "celsius = float(input(\"Enter temperature in Celsius: \"))\n",
        "\n",
        "# Convert Celsius to Fahrenheit\n",
        "fahrenheit = (celsius * 9/5) + 32\n",
        "\n",
        "# Display the result\n",
        "print(f\"{celsius}°C is equal to {fahrenheit}°F\")\n",
        "\n"
      ],
      "metadata": {
        "colab": {
          "base_uri": "https://localhost:8080/"
        },
        "id": "NAdbYpRlxB2-",
        "outputId": "d5a0d9a3-b202-40bb-89f5-438ba16830d3"
      },
      "execution_count": 9,
      "outputs": [
        {
          "output_type": "stream",
          "name": "stdout",
          "text": [
            "Enter temperature in Celsius: 6\n",
            "6.0°C is equal to 42.8°F\n"
          ]
        }
      ]
    },
    {
      "cell_type": "code",
      "source": [
        "#9.Python program to display calendar\n",
        "import calendar\n",
        "\n",
        "year = int(input(\"Enter the year: \"))\n",
        "month = int(input(\"Enter the month (1-12): \"))\n",
        "\n",
        "# Print the calendar for the specified year and month\n",
        "print(calendar.month(year, month))"
      ],
      "metadata": {
        "colab": {
          "base_uri": "https://localhost:8080/"
        },
        "id": "mi8J9UYnxKbd",
        "outputId": "474648d7-6a83-4fd8-a006-639938cc2425"
      },
      "execution_count": 12,
      "outputs": [
        {
          "output_type": "stream",
          "name": "stdout",
          "text": [
            "Enter the year: 2002\n",
            "Enter the month (1-12): 5\n",
            "      May 2002\n",
            "Mo Tu We Th Fr Sa Su\n",
            "       1  2  3  4  5\n",
            " 6  7  8  9 10 11 12\n",
            "13 14 15 16 17 18 19\n",
            "20 21 22 23 24 25 26\n",
            "27 28 29 30 31\n",
            "\n"
          ]
        }
      ]
    },
    {
      "cell_type": "code",
      "source": [
        "#10.Python Program to check if a Number is Positive, Negative or Zero\n",
        "\n",
        "def check_number(num):\n",
        "  \"\"\"Checks if a number is positive, negative, or zero.\"\"\"\n",
        "  if num > 0:\n",
        "    print(f\"{num} is positive.\")\n",
        "  elif num < 0:\n",
        "    print(f\"{num} is negative.\")\n",
        "  else:\n",
        "    print(f\"{num} is zero.\")\n",
        "\n",
        "# Get the number from the user\n",
        "number = float(input(\"Enter a number: \"))\n",
        "\n",
        "# Check the number\n",
        "check_number(number)"
      ],
      "metadata": {
        "colab": {
          "base_uri": "https://localhost:8080/"
        },
        "id": "5z-hdG_txv6f",
        "outputId": "2e360faa-119b-464e-ceda-5110fdc54f3d"
      },
      "execution_count": 13,
      "outputs": [
        {
          "output_type": "stream",
          "name": "stdout",
          "text": [
            "Enter a number: 5\n",
            "5.0 is positive.\n"
          ]
        }
      ]
    },
    {
      "cell_type": "code",
      "source": [
        "#11.Python Program to Check if a Number is Odd or Even\n",
        "\n",
        "num = int(input(\"Enter The number: \"))\n",
        "if num % 2 == 0:\n",
        "    print(f\"{num} is Even.\")\n",
        "else:\n",
        "    print(f\"{num} is Odd.\")"
      ],
      "metadata": {
        "colab": {
          "base_uri": "https://localhost:8080/"
        },
        "id": "4byAvdZqqUOj",
        "outputId": "5b0cd6fe-22c7-424b-abbc-23143cec2c9d"
      },
      "execution_count": 14,
      "outputs": [
        {
          "output_type": "stream",
          "name": "stdout",
          "text": [
            "Enter The number: 6\n",
            "6 is Even.\n"
          ]
        }
      ]
    },
    {
      "cell_type": "code",
      "source": [
        "#12. Python Program to Chck Leap Yeare\n",
        "\n",
        "# Function to check if a year is a leap year\n",
        "def is_leap_year(year):\n",
        "    if (year % 4 == 0 and year % 100 != 0) or (year % 400 == 0):\n",
        "        return True\n",
        "    else:\n",
        "        return False\n",
        "\n",
        "# Input from the user\n",
        "year = int(input(\"Enter a year: \"))\n",
        "\n",
        "# Check if the year is a leap year and display the result\n",
        "if is_leap_year(year):\n",
        "    print(f\"{year} is a leap year.\")\n",
        "else:\n",
        "    print(f\"{year} is not a leap year.\")\n"
      ],
      "metadata": {
        "colab": {
          "base_uri": "https://localhost:8080/"
        },
        "id": "6JuZMYoqx8MG",
        "outputId": "bc4d5cdf-6957-4cab-cc39-3d004f9fef71"
      },
      "execution_count": 15,
      "outputs": [
        {
          "output_type": "stream",
          "name": "stdout",
          "text": [
            "Enter a year: 2002\n",
            "2002 is not a leap year.\n"
          ]
        }
      ]
    },
    {
      "cell_type": "code",
      "source": [
        "#13. Python Program to Check Prime Number\n",
        "\n",
        "# Function to check if a number is prime\n",
        "def is_prime(number):\n",
        "    if number <= 1:\n",
        "        return False\n",
        "    for i in range(2, int(number ** 0.5) + 1):\n",
        "        if number % i == 0:\n",
        "            return False\n",
        "    return True\n",
        "\n",
        "# Input from the user\n",
        "num = int(input(\"Enter a number: \"))\n",
        "\n",
        "# Check if the number is prime and display the result\n",
        "if is_prime(num):\n",
        "    print(f\"{num} is a prime number.\")\n",
        "else:\n",
        "    print(f\"{num} is not a prime number.\")\n"
      ],
      "metadata": {
        "colab": {
          "base_uri": "https://localhost:8080/"
        },
        "id": "lvEnGCwux76G",
        "outputId": "88646f5f-46cb-463c-f8f4-2ae07db1038f"
      },
      "execution_count": 16,
      "outputs": [
        {
          "output_type": "stream",
          "name": "stdout",
          "text": [
            "Enter a number: 30\n",
            "30 is not a prime number.\n"
          ]
        }
      ]
    },
    {
      "cell_type": "code",
      "source": [
        "#14.Python Program to Print all Prime Numbers in an Interval\n",
        "\n",
        "start = int(input(\"Enter start of interval: \"))\n",
        "end = int(input(\"Enter end of interval: \"))\n",
        "\n",
        "for num in range(start, end + 1):\n",
        "    if num > 1:\n",
        "        for i in range(2, int(num ** 0.5) + 1):\n",
        "            if num % i == 0:\n",
        "                break\n",
        "        else:\n",
        "            print(num)"
      ],
      "metadata": {
        "colab": {
          "base_uri": "https://localhost:8080/"
        },
        "id": "VfPRowXky0IE",
        "outputId": "e67eadf6-3a8a-42f5-fef7-acc2dfe4d8f7"
      },
      "execution_count": 17,
      "outputs": [
        {
          "output_type": "stream",
          "name": "stdout",
          "text": [
            "Enter start of interval: 1\n",
            "Enter end of interval: 11\n",
            "2\n",
            "3\n",
            "5\n",
            "7\n",
            "11\n"
          ]
        }
      ]
    },
    {
      "cell_type": "code",
      "source": [
        "#15.Python Program to Find the Factorial of a Number\n",
        "\n",
        "def factorial(number):\n",
        "\n",
        "  if number == 0 or number == 1:\n",
        "    return 1\n",
        "  else:\n",
        "    return number * factorial(number - 1)\n",
        "\n",
        "# Get the number from the user\n",
        "number = int(input(\"Enter a number: \"))\n",
        "\n",
        "# Calculate the factorial\n",
        "factorial_result = factorial(number)\n",
        "\n",
        "# Print the result\n",
        "print(\"The factorial of\", number, \"is\", factorial_result)"
      ],
      "metadata": {
        "colab": {
          "base_uri": "https://localhost:8080/"
        },
        "id": "Onm-Y6lNzMir",
        "outputId": "36fd3c4d-d36e-46c0-eb00-fc127ec39085"
      },
      "execution_count": 18,
      "outputs": [
        {
          "output_type": "stream",
          "name": "stdout",
          "text": [
            "Enter a number: 5\n",
            "The factorial of 5 is 120\n"
          ]
        }
      ]
    },
    {
      "cell_type": "code",
      "source": [
        "#16. Python Program to Display the Multiplication Table\n",
        "\n",
        "def print_multiplication_table(number):\n",
        "  for i in range(1, 11):\n",
        "    result = number * i\n",
        "    print(f\"{number} x {i} = {result}\")\n",
        "\n",
        "# Get the number from the user\n",
        "number = int(input(\"Enter a number: \"))\n",
        "\n",
        "# Print the multiplication table\n",
        "print_multiplication_table(number)"
      ],
      "metadata": {
        "colab": {
          "base_uri": "https://localhost:8080/"
        },
        "id": "vdV8M_YkzaLj",
        "outputId": "31a19865-1009-4cab-eb76-fe54dc9cccc1"
      },
      "execution_count": 19,
      "outputs": [
        {
          "output_type": "stream",
          "name": "stdout",
          "text": [
            "Enter a number: 5\n",
            "5 x 1 = 5\n",
            "5 x 2 = 10\n",
            "5 x 3 = 15\n",
            "5 x 4 = 20\n",
            "5 x 5 = 25\n",
            "5 x 6 = 30\n",
            "5 x 7 = 35\n",
            "5 x 8 = 40\n",
            "5 x 9 = 45\n",
            "5 x 10 = 50\n"
          ]
        }
      ]
    },
    {
      "cell_type": "code",
      "source": [
        "#17.Python Program to Print the Fibonacci Sequence.\n",
        "\n",
        "n = int(input(\"Enter the number of terms: \"))\n",
        "a, b = 0, 1\n",
        "for _ in range(n):\n",
        "    print(a, end=' ')\n",
        "    a, b = b, a + b"
      ],
      "metadata": {
        "colab": {
          "base_uri": "https://localhost:8080/"
        },
        "id": "Ol5TCb16ztGk",
        "outputId": "874be321-8b5f-4f20-aeb9-f87ebc8ad0be"
      },
      "execution_count": 20,
      "outputs": [
        {
          "output_type": "stream",
          "name": "stdout",
          "text": [
            "Enter the number of terms: 9\n",
            "0 1 1 2 3 5 8 13 21 "
          ]
        }
      ]
    },
    {
      "cell_type": "code",
      "source": [
        "#18. Python Program to Check Armstrong Number\n",
        "\n",
        "num = int(input(\"Enter a number: \"))\n",
        "order = len(str(num))\n",
        "sum_of_digits = sum(int(digit) ** order for digit in str(num))\n",
        "\n",
        "if num == sum_of_digits:\n",
        "    print(f\"{num} is an Armstrong number.\")\n",
        "else:\n",
        "    print(f\"{num} is not an Armstrong number.\")"
      ],
      "metadata": {
        "colab": {
          "base_uri": "https://localhost:8080/"
        },
        "id": "DZroRAZ9z_3O",
        "outputId": "0aa8280c-c719-472f-853d-1732d5ed2697"
      },
      "execution_count": 21,
      "outputs": [
        {
          "output_type": "stream",
          "name": "stdout",
          "text": [
            "Enter a number: 1114\n",
            "1114 is not an Armstrong number.\n"
          ]
        }
      ]
    },
    {
      "cell_type": "code",
      "source": [
        "#19. Python Program to Find Armstrong Numbers in an Interval\n",
        "\n",
        "start = int(input(\"Enter start of interval: \"))\n",
        "end = int(input(\"Enter end of interval: \"))\n",
        "\n",
        "for num in range(start, end + 1):\n",
        "    order = len(str(num))\n",
        "    if num == sum(int(digit) ** order for digit in str(num)):\n",
        "        print(num)"
      ],
      "metadata": {
        "colab": {
          "base_uri": "https://localhost:8080/"
        },
        "id": "w0pyC2hA0Ymn",
        "outputId": "2ae5e0d3-c87a-48c8-aeaf-cce2c00519cb"
      },
      "execution_count": 22,
      "outputs": [
        {
          "output_type": "stream",
          "name": "stdout",
          "text": [
            "Enter start of interval: 1\n",
            "Enter end of interval: 500\n",
            "1\n",
            "2\n",
            "3\n",
            "4\n",
            "5\n",
            "6\n",
            "7\n",
            "8\n",
            "9\n",
            "153\n",
            "370\n",
            "371\n",
            "407\n"
          ]
        }
      ]
    },
    {
      "cell_type": "code",
      "source": [
        "#20. Python Program to Find the Sum of Natural Numbers\n",
        "# Function to calculate the sum of natural numbers\n",
        "def sum_of_natural_numbers(n):\n",
        "    return n * (n + 1) // 2  # Formula for the sum of the first n natural numbers\n",
        "\n",
        "# Input from the user\n",
        "num = int(input(\"Enter a natural number: \"))\n",
        "\n",
        "# Check if the number is natural (positive)\n",
        "if num < 1:\n",
        "    print(\"Please enter a positive natural number.\")\n",
        "else:\n",
        "    # Calculate and display the sum\n",
        "    total = sum_of_natural_numbers(num)\n",
        "    print(f\"The sum of natural numbers up to {num} is: {total}\")\n"
      ],
      "metadata": {
        "colab": {
          "base_uri": "https://localhost:8080/"
        },
        "id": "V5pLZnUY0l0Z",
        "outputId": "370eb953-d0b9-4dfd-fc3f-a8f81bd32006"
      },
      "execution_count": 23,
      "outputs": [
        {
          "output_type": "stream",
          "name": "stdout",
          "text": [
            "Enter a natural number: 5\n",
            "The sum of natural numbers up to 5 is: 15\n"
          ]
        }
      ]
    },
    {
      "cell_type": "code",
      "source": [
        "#21. Python Program to Print Reverse of a String\n",
        "\n",
        "string = input(\"Enter a string: \")\n",
        "print(f\"Reversed string is: {string[::-1]}\")"
      ],
      "metadata": {
        "colab": {
          "base_uri": "https://localhost:8080/"
        },
        "id": "QiW1Vtda003A",
        "outputId": "2708f696-717a-4f5c-c402-792ef6e9823d"
      },
      "execution_count": 24,
      "outputs": [
        {
          "output_type": "stream",
          "name": "stdout",
          "text": [
            "Enter a string: Hi Python\n",
            "Reversed string is: nohtyP iH\n"
          ]
        }
      ]
    },
    {
      "cell_type": "code",
      "source": [
        "#22. Python Program to Print Sum of First Ten Natural Numbers\n",
        "\n",
        "# Function to calculate the sum of the first ten natural numbers\n",
        "def sum_of_first_ten_natural_numbers():\n",
        "    return sum(range(1, 11))  # Sum of numbers from 1 to 10\n",
        "\n",
        "# Calculate and display the sum\n",
        "total = sum_of_first_ten_natural_numbers()\n",
        "print(f\"The sum of the first ten natural numbers is: {total}\")\n"
      ],
      "metadata": {
        "colab": {
          "base_uri": "https://localhost:8080/"
        },
        "id": "2wtUUXq_08gT",
        "outputId": "eb41fd57-7ccc-436e-f7f8-fad0cc963f0b"
      },
      "execution_count": 26,
      "outputs": [
        {
          "output_type": "stream",
          "name": "stdout",
          "text": [
            "The sum of the first ten natural numbers is: 55\n"
          ]
        }
      ]
    },
    {
      "cell_type": "code",
      "source": [
        "#23. Python Program to Find LCM\n",
        "\n",
        "import math\n",
        "def lcm(a, b):\n",
        "    return abs(a*b) // math.gcd(a, b)\n",
        "\n",
        "x = int(input(\"Enter first number: \"))\n",
        "y = int(input(\"Enter second number: \"))\n",
        "print(f\"LCM of {x} and {y} is {lcm(x, y)}.\")"
      ],
      "metadata": {
        "colab": {
          "base_uri": "https://localhost:8080/"
        },
        "id": "O9cPIv8c1M8c",
        "outputId": "9851ff4f-3825-4f50-ed26-0b00dbcef6d6"
      },
      "execution_count": 27,
      "outputs": [
        {
          "output_type": "stream",
          "name": "stdout",
          "text": [
            "Enter first number: 5\n",
            "Enter second number: 6\n",
            "LCM of 5 and 6 is 30.\n"
          ]
        }
      ]
    },
    {
      "cell_type": "code",
      "source": [
        "#24. Python Program to Find HCF\n",
        "\n",
        "import math  # Import the math module\n",
        "x = int(input(\"Enter first number: \"))\n",
        "y = int(input(\"Enter second number: \"))\n",
        "print(f\"HCF of {x} and {y} is {math.gcd(x, y)}.\")\n",
        "\n"
      ],
      "metadata": {
        "colab": {
          "base_uri": "https://localhost:8080/"
        },
        "id": "ZZnamFgQ1SSC",
        "outputId": "605746e8-b431-4c87-fca9-da59aecdefad"
      },
      "execution_count": 28,
      "outputs": [
        {
          "output_type": "stream",
          "name": "stdout",
          "text": [
            "Enter first number: 50\n",
            "Enter second number: 60\n",
            "HCF of 50 and 60 is 10.\n"
          ]
        }
      ]
    },
    {
      "cell_type": "code",
      "source": [
        "#25. Python Program to Convert Decimal to Binary, Octal, and Hexadecimal\n",
        "\n",
        "# Function to convert decimal to binary, octal, and hexadecimal\n",
        "def convert_decimal(number):\n",
        "    binary = bin(number)   # Convert to binary\n",
        "    octal = oct(number)    # Convert to octal\n",
        "    hexadecimal = hex(number)  # Convert to hexadecimal\n",
        "    return binary, octal, hexadecimal\n",
        "\n",
        "# Input from the user\n",
        "decimal_number = int(input(\"Enter a decimal number: \"))\n",
        "\n",
        "# Convert and display the results\n",
        "binary, octal, hexadecimal = convert_decimal(decimal_number)\n",
        "print(f\"Decimal: {decimal_number}\")\n",
        "print(f\"Binary: {binary[2:]}\")        # Slicing to remove '0b' prefix\n",
        "print(f\"Octal: {octal[2:]}\")          # Slicing to remove '0o' prefix\n",
        "print(f\"Hexadecimal: {hexadecimal[2:].upper()}\")  # Slicing and converting to uppercase\n"
      ],
      "metadata": {
        "colab": {
          "base_uri": "https://localhost:8080/"
        },
        "id": "U_e44bXI1ucr",
        "outputId": "4c944378-847c-4858-b023-93cf2f4e7097"
      },
      "execution_count": 30,
      "outputs": [
        {
          "output_type": "stream",
          "name": "stdout",
          "text": [
            "Enter a decimal number: 14\n",
            "Decimal: 14\n",
            "Binary: 1110\n",
            "Octal: 16\n",
            "Hexadecimal: E\n"
          ]
        }
      ]
    },
    {
      "cell_type": "code",
      "source": [
        "#26. Python Program To Find ASCII value of a Character\n",
        "\n",
        "char = input(\"Enter a character: \")\n",
        "print(f\"ASCII value of '{char}' is {ord(char)}.\")\n"
      ],
      "metadata": {
        "colab": {
          "base_uri": "https://localhost:8080/"
        },
        "id": "VZ-b3egk2ECM",
        "outputId": "461bc448-e7ec-4809-bc29-fe53f2e5baf2"
      },
      "execution_count": 31,
      "outputs": [
        {
          "output_type": "stream",
          "name": "stdout",
          "text": [
            "Enter a character: B\n",
            "ASCII value of 'B' is 66.\n"
          ]
        }
      ]
    },
    {
      "cell_type": "code",
      "source": [],
      "metadata": {
        "colab": {
          "base_uri": "https://localhost:8080/"
        },
        "id": "oeyBDfaG2IOW",
        "outputId": "6130b5c6-1832-49d2-9e1c-0b67ff4b6e2a"
      },
      "execution_count": 32,
      "outputs": [
        {
          "output_type": "stream",
          "name": "stdout",
          "text": [
            "Enter your choice:\n",
            "1. Add\n",
            "2. Subtract\n",
            "3. Multiply\n",
            "4. Divide\n",
            "Enter choice (1/2/3/4): 5\n",
            "Enter the first number: 6\n",
            "Enter the second number: 5\n",
            "Result: Invalid operation\n"
          ]
        }
      ]
    },
    {
      "cell_type": "code",
      "source": [
        "#27. Python Program to Make a Simple Calculator\n",
        "# Function to add two numbers\n",
        "def add(x, y):\n",
        "    return x + y\n",
        "\n",
        "# Function to subtract two numbers\n",
        "def subtract(x, y):\n",
        "    return x - y\n",
        "\n",
        "# Function to multiply two numbers\n",
        "def multiply(x, y):\n",
        "    return x * y\n",
        "\n",
        "# Function to divide two numbers\n",
        "def divide(x, y):\n",
        "    if y != 0:\n",
        "        return x / y\n",
        "    else:\n",
        "        return \"Error! Division by zero.\"\n",
        "\n",
        "# Main program\n",
        "def calculator():\n",
        "    # Input from the user\n",
        "    a = float(input(\"Enter first number: \"))\n",
        "    b = float(input(\"Enter second number: \"))\n",
        "    operation = input(\"Choose operation (+, -, *, /): \")\n",
        "\n",
        "    # Perform the chosen operation and display the result\n",
        "    if operation == '+':\n",
        "        print(f\"Result: {add(a, b)}\")\n",
        "    elif operation == '-':\n",
        "        print(f\"Result: {subtract(a, b)}\")\n",
        "    elif operation == '*':\n",
        "        print(f\"Result: {multiply(a, b)}\")\n",
        "    elif operation == '/':\n",
        "        print(f\"Result: {divide(a, b)}\")\n",
        "    else:\n",
        "        print(\"Invalid operation!\")\n",
        "\n",
        "# Run the calculator\n",
        "calculator()\n"
      ],
      "metadata": {
        "colab": {
          "base_uri": "https://localhost:8080/"
        },
        "id": "JHpvI9uItGx_",
        "outputId": "875e2ae5-9b8d-4b46-8c5a-365076fcdf6e"
      },
      "execution_count": 34,
      "outputs": [
        {
          "output_type": "stream",
          "name": "stdout",
          "text": [
            "Enter first number: 11\n",
            "Enter second number: 14\n",
            "Choose operation (+, -, *, /): +\n",
            "Result: 25.0\n"
          ]
        }
      ]
    },
    {
      "cell_type": "code",
      "source": [
        "#28. Python Program to Display Fibonacci Sequence Using Recursion\n",
        "\n",
        "def fibonacci(n):\n",
        "    if n <= 1:\n",
        "        return n\n",
        "    else:\n",
        "        return fibonacci(n-1) + fibonacci(n-2)\n",
        "\n",
        "n_terms = int(input(\"Enter number of terms: \"))\n",
        "for i in range(n_terms):\n",
        "    print(fibonacci(i), end=' ')"
      ],
      "metadata": {
        "colab": {
          "base_uri": "https://localhost:8080/"
        },
        "id": "vf5F34592v9W",
        "outputId": "13f825cd-b7c5-477a-aeef-7a9174ab4c15"
      },
      "execution_count": 35,
      "outputs": [
        {
          "output_type": "stream",
          "name": "stdout",
          "text": [
            "Enter number of terms: 5\n",
            "0 1 1 2 3 "
          ]
        }
      ]
    },
    {
      "cell_type": "code",
      "source": [
        "#29. Python Program to Find Factorial of a Number Using Recursion\n",
        "\n",
        "def factorial_recursive(n):\n",
        "  if n == 0:\n",
        "    return 1\n",
        "  else:\n",
        "    return n * factorial_recursive(n - 1)\n",
        "\n",
        "# Get the number from the user\n",
        "num = int(input(\"Enter a number: \"))\n",
        "\n",
        "# Calculate and print the factorial\n",
        "factorial_result = factorial_recursive(num)\n",
        "print(\"The factorial of\", num, \"is:\", factorial_result)"
      ],
      "metadata": {
        "colab": {
          "base_uri": "https://localhost:8080/"
        },
        "id": "ugPB-J4L27V2",
        "outputId": "7b022d83-76a8-4605-9a56-5801c38984da"
      },
      "execution_count": 36,
      "outputs": [
        {
          "output_type": "stream",
          "name": "stdout",
          "text": [
            "Enter a number: 7\n",
            "The factorial of 7 is: 5040\n"
          ]
        }
      ]
    },
    {
      "cell_type": "code",
      "source": [
        "#30. Python Program to Calculate the Power of a Number\n",
        "# Function to calculate the power of a number\n",
        "def power(base, exponent):\n",
        "    return base ** exponent  # Using the exponentiation operator\n",
        "\n",
        "# Input from the user\n",
        "base = float(input(\"Enter the base number: \"))\n",
        "exponent = int(input(\"Enter the exponent (power): \"))\n",
        "\n",
        "# Calculate and display the result\n",
        "result = power(base, exponent)\n",
        "print(f\"{base} raised to the power of {exponent} is: {result}\")\n"
      ],
      "metadata": {
        "colab": {
          "base_uri": "https://localhost:8080/"
        },
        "id": "UDsXgTEu3RH_",
        "outputId": "13014bfb-8d5e-404e-b1c8-cd31ea133d25"
      },
      "execution_count": 42,
      "outputs": [
        {
          "output_type": "stream",
          "name": "stdout",
          "text": [
            "Enter the base number: 11.14\n",
            "Enter the exponent (power): 2\n",
            "11.14 raised to the power of 2 is: 124.09960000000001\n"
          ]
        }
      ]
    },
    {
      "cell_type": "code",
      "source": [
        "#31. Python Program to Add Two Matrices\n",
        "\n",
        "# let a Example for 2x2 matrices be\n",
        "matrix1 = [[1, 2], [3, 4]]\n",
        "matrix2 = [[5, 6], [7, 8]]\n",
        "# len is to find the length of the Matrix Row and it column\n",
        "result = [[matrix1[i][j] + matrix2[i][j] for j in range(len(matrix1[0]))] for i in range(len(matrix1))]\n",
        "for row in result:\n",
        "    print(row)\n",
        ""
      ],
      "metadata": {
        "colab": {
          "base_uri": "https://localhost:8080/"
        },
        "id": "Rhc7qBWo3pow",
        "outputId": "63968a11-c42a-4033-b640-f30045051f75"
      },
      "execution_count": 51,
      "outputs": [
        {
          "output_type": "stream",
          "name": "stdout",
          "text": [
            "[6, 8]\n",
            "[10, 12]\n"
          ]
        }
      ]
    },
    {
      "cell_type": "code",
      "source": [
        "#32. Python Program to Multiply Two Matrices\n",
        "\n",
        "# Example for 2x2 matrices\n",
        "matrix1 = [[1, 2], [3, 4]]\n",
        "matrix2 = [[5, 6], [7, 8]]\n",
        "\n",
        "result = [[0, 0], [0, 0]]\n",
        "\n",
        "# Perform matrix multiplication\n",
        "for i in range(len(matrix1)):   # Iterate happen over rows of matrix1\n",
        "    for j in range(len(matrix2[0])):  # Iterate  happen over columns of matrix2\n",
        "        for k in range(len(matrix2)):  # Iterate  happen over rows of matrix2\n",
        "            result[i][j] += matrix1[i][k] * matrix2[k][j] # Multiply and accumulate\n",
        "\n",
        "# Print the resulting matrix\n",
        "for row in result:\n",
        "    print(row)"
      ],
      "metadata": {
        "colab": {
          "base_uri": "https://localhost:8080/"
        },
        "id": "2NaNeBFg44wP",
        "outputId": "418f951c-1743-4bcb-f6f9-538b29581596"
      },
      "execution_count": 52,
      "outputs": [
        {
          "output_type": "stream",
          "name": "stdout",
          "text": [
            "[19, 22]\n",
            "[43, 50]\n"
          ]
        }
      ]
    },
    {
      "cell_type": "code",
      "source": [
        "#33. Python Program to Transpose a Matrix\n",
        "\n",
        "matrix = [[1, 2, 3], [4, 5, 6], [7, 8, 9]]\n",
        "transpose = [[matrix[j][i] for j in range(len(matrix))] for i in range(len(matrix[0]))]# Transpose the matrix\n",
        "# This creates a new matrix where rows become columns and vice versa\n",
        "\n",
        "for row in transpose:\n",
        "    print(row)"
      ],
      "metadata": {
        "colab": {
          "base_uri": "https://localhost:8080/"
        },
        "id": "ULmt7kZl5NJb",
        "outputId": "72ad3fdb-7173-48bd-f567-cdacd797c407"
      },
      "execution_count": 53,
      "outputs": [
        {
          "output_type": "stream",
          "name": "stdout",
          "text": [
            "[1, 4, 7]\n",
            "[2, 5, 8]\n",
            "[3, 6, 9]\n"
          ]
        }
      ]
    },
    {
      "cell_type": "code",
      "source": [
        "#34. Python Program to Sort Words in Alphabetic Order\n",
        "def sort_words_alphabetically(words):\n",
        "\n",
        "  sorted_words = sorted(words)\n",
        "  return sorted_words\n",
        "\n",
        "# Get the words from the user\n",
        "words = input(\"Enter the words separated by spaces: \").split()\n",
        "\n",
        "# Sort the words alphabetically\n",
        "sorted_words = sort_words_alphabetically(words)\n",
        "\n",
        "# Print the sorted words\n",
        "print(\"The sorted words are:\", sorted_words)"
      ],
      "metadata": {
        "colab": {
          "base_uri": "https://localhost:8080/"
        },
        "id": "mMpdSAS15PFc",
        "outputId": "15c82f04-d3b8-45bc-f7e1-2686e939747b"
      },
      "execution_count": 54,
      "outputs": [
        {
          "output_type": "stream",
          "name": "stdout",
          "text": [
            "Enter the words separated by spaces: My name is Titas.\n",
            "The sorted words are: ['My', 'Titas.', 'is', 'name']\n"
          ]
        }
      ]
    },
    {
      "cell_type": "code",
      "source": [
        "#35. Python Program to Remove Punctuation From a String\n",
        "\n",
        "import string\n",
        "\n",
        "def remove_punctuation(text):\n",
        "  \"\"\"Removes punctuation from a string.\"\"\"\n",
        "  translator = str.maketrans(\"\", \"\", string.punctuation)\n",
        "  return text.translate(translator)\n",
        "\n",
        "# Get the text from the user\n",
        "text = input(\"Enter the text: \")\n",
        "\n",
        "# Remove punctuation\n",
        "text_without_punctuation = remove_punctuation(text)\n",
        "\n",
        "# Print the result\n",
        "print(\"Text without punctuation:\", text_without_punctuation)"
      ],
      "metadata": {
        "colab": {
          "base_uri": "https://localhost:8080/"
        },
        "id": "IQomvIdC5h5U",
        "outputId": "b20e857d-617a-4727-cfc7-b217bbe65287"
      },
      "execution_count": 55,
      "outputs": [
        {
          "output_type": "stream",
          "name": "stdout",
          "text": [
            "Enter the text: My Id is : 1864\n",
            "Text without punctuation: My Id is  1864\n"
          ]
        }
      ]
    },
    {
      "cell_type": "code",
      "source": [
        "#36. Python Program to Convert List to String\n",
        "\n",
        "lst = ['Hi', 'Sarker', '!!!']\n",
        "result = \" \".join(lst)\n",
        "print(result)\n"
      ],
      "metadata": {
        "colab": {
          "base_uri": "https://localhost:8080/"
        },
        "id": "G2JVzksy5ubF",
        "outputId": "1615f546-853c-49bc-c29d-9ae2835904d2"
      },
      "execution_count": 57,
      "outputs": [
        {
          "output_type": "stream",
          "name": "stdout",
          "text": [
            "Hi Sarker !!!\n"
          ]
        }
      ]
    },
    {
      "cell_type": "code",
      "source": [
        "#37. Python Program to Convert Int to String\n",
        "\n",
        "num = 420\n",
        "print(f\"String representation of number: {str(num)}\")"
      ],
      "metadata": {
        "colab": {
          "base_uri": "https://localhost:8080/"
        },
        "id": "qehlrrLT5waQ",
        "outputId": "6fee68f2-9578-4b4f-aa99-8bf61a62e146"
      },
      "execution_count": 59,
      "outputs": [
        {
          "output_type": "stream",
          "name": "stdout",
          "text": [
            "String representation of number: 420\n"
          ]
        }
      ]
    },
    {
      "cell_type": "code",
      "source": [
        "#38. Python Program to Concatenate Two Strings\n",
        "\n",
        "st1 = \"Hello\"\n",
        "st2 = \" Python\"\n",
        "result = st1 + st2\n",
        "print(result)"
      ],
      "metadata": {
        "colab": {
          "base_uri": "https://localhost:8080/"
        },
        "id": "fmUYNk7N56b2",
        "outputId": "afb2771e-493b-4a05-b84e-49a41077d482"
      },
      "execution_count": 62,
      "outputs": [
        {
          "output_type": "stream",
          "name": "stdout",
          "text": [
            "Hello Python\n"
          ]
        }
      ]
    },
    {
      "cell_type": "code",
      "source": [
        "#39. Python Program to Generate a Random String\n",
        "import random\n",
        "import string\n",
        "\n",
        "def generate_random_string(length):\n",
        "  characters = string.ascii_letters + string.digits\n",
        "  random_string = ''.join(random.choice(characters) for _ in range(length))\n",
        "  return random_string\n",
        "\n",
        "# Get the desired length from the user\n",
        "length = int(input(\"Enter the desired length of the random string: \"))\n",
        "\n",
        "# Generate and print the random string\n",
        "random_string = generate_random_string(length)\n",
        "print(\"Random string:\", random_string)"
      ],
      "metadata": {
        "colab": {
          "base_uri": "https://localhost:8080/"
        },
        "id": "g_L1asjZ6DtR",
        "outputId": "64233513-3f39-4133-ff8a-6d8d6c8173b2"
      },
      "execution_count": 63,
      "outputs": [
        {
          "output_type": "stream",
          "name": "stdout",
          "text": [
            "Enter the desired length of the random string: 6\n",
            "Random string: lL3F9D\n"
          ]
        }
      ]
    },
    {
      "cell_type": "code",
      "source": [
        "#40. Python Program to Check Whether a Given String is a Palindrome or Not\n",
        "def is_palindrome(string):\n",
        "\n",
        "  string = string.lower()  # Convert to lowercase to ignore case\n",
        "  return string == string[::-1]\n",
        "\n",
        "# Get the string from the user\n",
        "string = input(\"Enter a string: \")\n",
        "\n",
        "# Check if it's a palindrome\n",
        "if is_palindrome(string):\n",
        "  print(string, \"is a palindrome.\")\n",
        "else:\n",
        "  print(string, \"is not a palindrome.\")"
      ],
      "metadata": {
        "colab": {
          "base_uri": "https://localhost:8080/"
        },
        "id": "NmCEVJ496iI2",
        "outputId": "8a6c0d78-40c3-4ed3-e418-6908119ff6e3"
      },
      "execution_count": 65,
      "outputs": [
        {
          "output_type": "stream",
          "name": "stdout",
          "text": [
            "Enter a string: Hello Python Mama\n",
            "Hello Python Mama is not a palindrome.\n"
          ]
        }
      ]
    },
    {
      "cell_type": "code",
      "source": [
        "#41. Convert the String into Lowercase to Uppercase and Vice Versa\n",
        "\n",
        "string = input(\"Enter a string: \")\n",
        "swapped = string.swapcase()\n",
        "print(f\"Swapped case: {swapped}\")"
      ],
      "metadata": {
        "colab": {
          "base_uri": "https://localhost:8080/"
        },
        "id": "lHmGUEg669y-",
        "outputId": "202300be-b30c-44c9-bd37-280a2b400274"
      },
      "execution_count": 66,
      "outputs": [
        {
          "output_type": "stream",
          "name": "stdout",
          "text": [
            "Enter a string: Life is Good \n",
            "Swapped case: lIFE IS gOOD \n"
          ]
        }
      ]
    },
    {
      "cell_type": "code",
      "source": [
        "#42. Python Program to Find the Occurrence of a Substring Within a String\n",
        "\n",
        "string = input(\"Enter the main string: \")\n",
        "substring = input(\"Enter the substring to find: \")\n",
        "count = string.count(substring)\n",
        "print(f\"'{substring}' occurs {count} times in the string.\")"
      ],
      "metadata": {
        "colab": {
          "base_uri": "https://localhost:8080/"
        },
        "id": "8AIIlHPf7RYv",
        "outputId": "a78613ac-b71b-48fe-e6d0-b3104704c126"
      },
      "execution_count": 68,
      "outputs": [
        {
          "output_type": "stream",
          "name": "stdout",
          "text": [
            "Enter the main string: Python Program to Find the Occurrence of a Substring Within a String\n",
            "Enter the substring to find: Find\n",
            "'Find' occurs 1 times in the string.\n"
          ]
        }
      ]
    },
    {
      "cell_type": "code",
      "source": [
        "#43. Python Program to Append Element in the List\n",
        "\n",
        "lst = [1, 2, 3, 4, 5, 6, 7]\n",
        "a = int(input(\"Enter element to append: \"))\n",
        "lst.append(a)\n",
        "print(\"Updated list:\", lst)"
      ],
      "metadata": {
        "colab": {
          "base_uri": "https://localhost:8080/"
        },
        "id": "Th_Oh5YB7fcI",
        "outputId": "565bd3f2-b8cc-4d9e-a249-28582ca386ab"
      },
      "execution_count": 69,
      "outputs": [
        {
          "output_type": "stream",
          "name": "stdout",
          "text": [
            "Enter element to append: 11\n",
            "Updated list: [1, 2, 3, 4, 5, 6, 7, 11]\n"
          ]
        }
      ]
    },
    {
      "cell_type": "code",
      "source": [
        "#44. Python Program to Compare Two Lists\n",
        "\n",
        "list1 = [1, 2, 3]\n",
        "list2 = [1, 2, 3]\n",
        "\n",
        "if list1 == list2:\n",
        "    print(\"Both lists are equal.\")\n",
        "else:\n",
        "    print(\"Lists are not equal.\")"
      ],
      "metadata": {
        "colab": {
          "base_uri": "https://localhost:8080/"
        },
        "id": "UeNtcJe67hfp",
        "outputId": "ce129a59-f273-487e-ed51-64ac7ae26483"
      },
      "execution_count": 70,
      "outputs": [
        {
          "output_type": "stream",
          "name": "stdout",
          "text": [
            "Both lists are equal.\n"
          ]
        }
      ]
    },
    {
      "cell_type": "code",
      "source": [
        "#45. Python Program to Convert List to Dictionary\n",
        "\n",
        "keys = ['Name', 'Age', 'City']\n",
        "values = ['Titas', 21, 'Mymenshingh']\n",
        "#mapping the keys and values in the dictionary\n",
        "dictionary = dict(zip(keys, values))\n",
        "print(\"Converted dictionary:\", dictionary)"
      ],
      "metadata": {
        "colab": {
          "base_uri": "https://localhost:8080/"
        },
        "id": "9jQlDpkg7l5L",
        "outputId": "b3499a93-09d6-4078-ce46-2e905eeeeeb4"
      },
      "execution_count": 73,
      "outputs": [
        {
          "output_type": "stream",
          "name": "stdout",
          "text": [
            "Converted dictionary: {'Name': 'Titas', 'Age': 21, 'City': 'Mymenshingh'}\n"
          ]
        }
      ]
    },
    {
      "cell_type": "code",
      "source": [
        "#46. Python Program to Remove an Element from a List\n",
        "\n",
        "lst = [1, 2, 3, 4, 5]\n",
        "a = int(input(\"Enter element to remove: \"))\n",
        "lst.remove(a)#remove the element f\n",
        "print(\"Updated list:\", lst)"
      ],
      "metadata": {
        "colab": {
          "base_uri": "https://localhost:8080/"
        },
        "id": "7Ejt-53u8ARk",
        "outputId": "352fe134-96c6-44ee-cd8f-d1eba1524e06"
      },
      "execution_count": 74,
      "outputs": [
        {
          "output_type": "stream",
          "name": "stdout",
          "text": [
            "Enter element to remove: 2\n",
            "Updated list: [1, 3, 4, 5]\n"
          ]
        }
      ]
    },
    {
      "cell_type": "code",
      "source": [
        "#47. Python Program to Add Two Lists\n",
        "\n",
        "list1 = [1, 2, 3, 4, 5 ]\n",
        "list2 = [6, 7, 8, 9, 10]\n",
        "\n",
        "result = list1 + list2#join or adding to list into new one\n",
        "print(\"Combined list:\", result)"
      ],
      "metadata": {
        "colab": {
          "base_uri": "https://localhost:8080/"
        },
        "id": "BEAeR1W78GVr",
        "outputId": "2e7835d9-2f42-4e84-9491-321d5829ffac"
      },
      "execution_count": 75,
      "outputs": [
        {
          "output_type": "stream",
          "name": "stdout",
          "text": [
            "Combined list: [1, 2, 3, 4, 5, 6, 7, 8, 9, 10]\n"
          ]
        }
      ]
    },
    {
      "cell_type": "code",
      "source": [
        "#48. Python Program to Convert List to Set\n",
        "def convert_list_to_set(lst):\n",
        "  set_from_list = set(lst)\n",
        "  return set_from_list\n",
        "\n",
        "# Get the elements of the list\n",
        "list_elements = input(\"Enter the elements of the list separated by spaces: \").split()\n",
        "\n",
        "# Convert the list to a set\n",
        "set_from_list = convert_list_to_set(list_elements)\n",
        "\n",
        "# Print the set\n",
        "print(\"The set from the list is:\", set_from_list)"
      ],
      "metadata": {
        "colab": {
          "base_uri": "https://localhost:8080/"
        },
        "id": "-buGM6ov8G6B",
        "outputId": "ce806df3-72dc-4f5b-c7c7-268568f89f88"
      },
      "execution_count": 76,
      "outputs": [
        {
          "output_type": "stream",
          "name": "stdout",
          "text": [
            "Enter the elements of the list separated by spaces: 1,2,3,4\n",
            "The set from the list is: {'1,2,3,4'}\n"
          ]
        }
      ]
    },
    {
      "cell_type": "code",
      "source": [
        "#49. Python Program to Convert List to String\n",
        "\n",
        "lst = ['Life', 'is', 'Ossam!']\n",
        "result = \" \".join(lst)\n",
        "print(\"Converted string:\", result)"
      ],
      "metadata": {
        "colab": {
          "base_uri": "https://localhost:8080/"
        },
        "id": "ezFdMQr-8Waa",
        "outputId": "2a8ad35a-9dee-40aa-96f6-4c6e6fb51f21"
      },
      "execution_count": 77,
      "outputs": [
        {
          "output_type": "stream",
          "name": "stdout",
          "text": [
            "Converted string: Life is Ossam!\n"
          ]
        }
      ]
    },
    {
      "cell_type": "code",
      "source": [
        "#50. Python Program to Remove Duplicates from a List\n",
        "\n",
        "a = [1, 2, 2, 3, 4, 4, 5,5,6]\n",
        "b = list(set(a))#convert to set to remove duplicates\n",
        "print(\"List after removing duplicates:\", b)"
      ],
      "metadata": {
        "colab": {
          "base_uri": "https://localhost:8080/"
        },
        "id": "btM5FB0v8h1M",
        "outputId": "122c8a17-9d3d-4ba4-dfb9-eb25428bbc4d"
      },
      "execution_count": 79,
      "outputs": [
        {
          "output_type": "stream",
          "name": "stdout",
          "text": [
            "List after removing duplicates: [1, 2, 3, 4, 5, 6]\n"
          ]
        }
      ]
    },
    {
      "cell_type": "code",
      "source": [],
      "metadata": {
        "id": "izVS10n38rXR"
      },
      "execution_count": null,
      "outputs": []
    }
  ]
}